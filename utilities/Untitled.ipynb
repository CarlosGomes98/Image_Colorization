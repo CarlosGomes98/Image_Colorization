{
 "cells": [
  {
   "cell_type": "code",
   "execution_count": 6,
   "metadata": {},
   "outputs": [
    {
     "name": "stdout",
     "output_type": "stream",
     "text": [
      "[[[ 0.          0.95367554  0.        ]]]\n"
     ]
    }
   ],
   "source": [
    "import numpy as np\n",
    "from skimage import io, color, transform\n",
    "from matplotlib import pyplot as plt\n",
    "import warnings\n",
    "\n",
    "warnings.filterwarnings(\"error\")\n",
    "\n",
    "x = np.zeros((1, 1, 3))\n",
    "x[0, 0, 0] = 80\n",
    "x[0, 0, 1] = -130\n",
    "x[0, 0, 2] = 85\n",
    "try:\n",
    "    print color.lab2rgb(x)\n",
    "    \n",
    "except:\n",
    "    print \"lul\"\n",
    "    \n",
    "# for l in range(101):\n",
    "#     for a in range(-127, 128):\n",
    "#         for b in range(-127, 128):\n",
    "#             x[0, 0, 0] = l\n",
    "#             x[0, 0, 1] = a\n",
    "#             x[0, 0, 2] = b\n",
    "#             try:\n",
    "#                 color.lab2rgb(x)\n",
    "#             except:\n",
    "#                 print l, a ,b"
   ]
  },
  {
   "cell_type": "code",
   "execution_count": 9,
   "metadata": {},
   "outputs": [
    {
     "ename": "ImportError",
     "evalue": "No module named colormath",
     "output_type": "error",
     "traceback": [
      "\u001b[0;31m---------------------------------------------------------------------------\u001b[0m",
      "\u001b[0;31mImportError\u001b[0m                               Traceback (most recent call last)",
      "\u001b[0;32m<ipython-input-9-67577e9bfe2b>\u001b[0m in \u001b[0;36m<module>\u001b[0;34m()\u001b[0m\n\u001b[0;32m----> 1\u001b[0;31m \u001b[0;32mimport\u001b[0m \u001b[0mcolormath\u001b[0m\u001b[0;34m\u001b[0m\u001b[0m\n\u001b[0m",
      "\u001b[0;31mImportError\u001b[0m: No module named colormath"
     ]
    }
   ],
   "source": [
    "import colormath"
   ]
  },
  {
   "cell_type": "code",
   "execution_count": 1,
   "metadata": {},
   "outputs": [
    {
     "name": "stdout",
     "output_type": "stream",
     "text": [
      "a\n"
     ]
    }
   ],
   "source": [
    "print \"a\""
   ]
  }
 ],
 "metadata": {
  "kernelspec": {
   "display_name": "Python 2",
   "language": "python",
   "name": "python2"
  },
  "language_info": {
   "codemirror_mode": {
    "name": "ipython",
    "version": 2
   },
   "file_extension": ".py",
   "mimetype": "text/x-python",
   "name": "python",
   "nbconvert_exporter": "python",
   "pygments_lexer": "ipython2",
   "version": "2.7.13"
  }
 },
 "nbformat": 4,
 "nbformat_minor": 2
}
