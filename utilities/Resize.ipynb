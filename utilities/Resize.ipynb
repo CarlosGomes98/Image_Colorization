{
 "cells": [
  {
   "cell_type": "code",
   "execution_count": 2,
   "metadata": {},
   "outputs": [],
   "source": [
    "import numpy as np\n",
    "from skimage import io, transform\n",
    "from matplotlib import pyplot as plt\n",
    "import os"
   ]
  },
  {
   "cell_type": "code",
   "execution_count": 3,
   "metadata": {},
   "outputs": [
    {
     "name": "stderr",
     "output_type": "stream",
     "text": [
      "C:\\Users\\carlos\\Anaconda3\\envs\\tf-cpu-conda\\lib\\site-packages\\skimage\\transform\\_warps.py:110: UserWarning: Anti-aliasing will be enabled by default in skimage 0.15 to avoid aliasing artifacts when down-sampling images.\n",
      "  warn(\"Anti-aliasing will be enabled by default in skimage 0.15 to \"\n",
      "C:\\Users\\carlos\\Anaconda3\\envs\\tf-cpu-conda\\lib\\site-packages\\skimage\\util\\dtype.py:141: UserWarning: Possible precision loss when converting from float64 to uint8\n",
      "  .format(dtypeobj_in, dtypeobj_out))\n",
      "C:\\Users\\carlos\\Anaconda3\\envs\\tf-cpu-conda\\lib\\site-packages\\skimage\\io\\_io.py:140: UserWarning: ../data/Train_64\\Places365_test_00035351.jpg is a low contrast image\n",
      "  warn('%s is a low contrast image' % fname)\n",
      "C:\\Users\\carlos\\Anaconda3\\envs\\tf-cpu-conda\\lib\\site-packages\\skimage\\io\\_io.py:140: UserWarning: ../data/Train_64\\Places365_test_00064326.jpg is a low contrast image\n",
      "  warn('%s is a low contrast image' % fname)\n",
      "C:\\Users\\carlos\\Anaconda3\\envs\\tf-cpu-conda\\lib\\site-packages\\skimage\\io\\_io.py:140: UserWarning: ../data/Train_64\\Places365_test_00130881.jpg is a low contrast image\n",
      "  warn('%s is a low contrast image' % fname)\n",
      "C:\\Users\\carlos\\Anaconda3\\envs\\tf-cpu-conda\\lib\\site-packages\\skimage\\io\\_io.py:140: UserWarning: ../data/Train_64\\Places365_test_00148678.jpg is a low contrast image\n",
      "  warn('%s is a low contrast image' % fname)\n",
      "C:\\Users\\carlos\\Anaconda3\\envs\\tf-cpu-conda\\lib\\site-packages\\skimage\\io\\_io.py:140: UserWarning: ../data/Train_64\\Places365_test_00149434.jpg is a low contrast image\n",
      "  warn('%s is a low contrast image' % fname)\n",
      "C:\\Users\\carlos\\Anaconda3\\envs\\tf-cpu-conda\\lib\\site-packages\\skimage\\io\\_io.py:140: UserWarning: ../data/Train_64\\Places365_test_00163344.jpg is a low contrast image\n",
      "  warn('%s is a low contrast image' % fname)\n",
      "C:\\Users\\carlos\\Anaconda3\\envs\\tf-cpu-conda\\lib\\site-packages\\skimage\\io\\_io.py:140: UserWarning: ../data/Train_64\\Places365_test_00164743.jpg is a low contrast image\n",
      "  warn('%s is a low contrast image' % fname)\n",
      "C:\\Users\\carlos\\Anaconda3\\envs\\tf-cpu-conda\\lib\\site-packages\\skimage\\io\\_io.py:140: UserWarning: ../data/Train_64\\Places365_test_00194368.jpg is a low contrast image\n",
      "  warn('%s is a low contrast image' % fname)\n",
      "C:\\Users\\carlos\\Anaconda3\\envs\\tf-cpu-conda\\lib\\site-packages\\skimage\\io\\_io.py:140: UserWarning: ../data/Train_64\\Places365_test_00258067.jpg is a low contrast image\n",
      "  warn('%s is a low contrast image' % fname)\n",
      "C:\\Users\\carlos\\Anaconda3\\envs\\tf-cpu-conda\\lib\\site-packages\\skimage\\io\\_io.py:140: UserWarning: ../data/Train_64\\Places365_test_00260144.jpg is a low contrast image\n",
      "  warn('%s is a low contrast image' % fname)\n",
      "C:\\Users\\carlos\\Anaconda3\\envs\\tf-cpu-conda\\lib\\site-packages\\skimage\\io\\_io.py:140: UserWarning: ../data/Train_64\\Places365_test_00276161.jpg is a low contrast image\n",
      "  warn('%s is a low contrast image' % fname)\n",
      "C:\\Users\\carlos\\Anaconda3\\envs\\tf-cpu-conda\\lib\\site-packages\\skimage\\io\\_io.py:140: UserWarning: ../data/Train_64\\Places365_test_00314236.jpg is a low contrast image\n",
      "  warn('%s is a low contrast image' % fname)\n",
      "C:\\Users\\carlos\\Anaconda3\\envs\\tf-cpu-conda\\lib\\site-packages\\skimage\\io\\_io.py:140: UserWarning: ../data/Train_64\\Places365_test_00323733.jpg is a low contrast image\n",
      "  warn('%s is a low contrast image' % fname)\n"
     ]
    }
   ],
   "source": [
    "for image_name in os.listdir(\"../data/Train\"):\n",
    "    image = transform.resize(io.imread(os.path.join(\"../data/Train\", image_name)), (64, 64), mode=\"constant\")\n",
    "    io.imsave(os.path.join(\"../data/Train_64\", image_name), image)"
   ]
  }
 ],
 "metadata": {
  "kernelspec": {
   "display_name": "Python 3",
   "language": "python",
   "name": "python3"
  },
  "language_info": {
   "codemirror_mode": {
    "name": "ipython",
    "version": 3
   },
   "file_extension": ".py",
   "mimetype": "text/x-python",
   "name": "python",
   "nbconvert_exporter": "python",
   "pygments_lexer": "ipython3",
   "version": "3.6.7"
  }
 },
 "nbformat": 4,
 "nbformat_minor": 2
}
