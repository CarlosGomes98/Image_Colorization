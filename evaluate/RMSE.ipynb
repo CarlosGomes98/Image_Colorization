{
 "cells": [
  {
   "cell_type": "code",
   "execution_count": 1,
   "metadata": {
    "collapsed": true
   },
   "outputs": [],
   "source": [
    "import numpy as np\n",
    "from skimage import io, color\n",
    "def read_image(img_id, dir, image_size):\n",
    "    try:\n",
    "        img = load_img(dir + \"/\" + img_id, target_size=(image_size,image_size))\n",
    "        img = img_to_array(img)\n",
    "        return img\n",
    "    except:\n",
    "        return None\n",
    "    \n",
    "def get_images(files, image_size):\n",
    "    images = []\n",
    "    for image in files:\n",
    "        img = read_image(image, directory, image_size)\n",
    "        if not img is None:\n",
    "            img = np.array(img, dtype=float)\n",
    "            images.append(img)\n",
    "    images = np.array(images, dtype=float)\n",
    "    return images"
   ]
  },
  {
   "cell_type": "code",
   "execution_count": null,
   "metadata": {
    "collapsed": true
   },
   "outputs": [],
   "source": [
    "image_size = 256\n",
    "no_samples = 100\n",
    "directory = \"/home/carlos/Image_Colorization/data/demo/places\"\n",
    "\n",
    "model = load_model(\"/home/carlos/Image_Colorization/output/MSE/2019-02-15--14h08m/model.h5\")\n",
    "files = [f for f in os.listdir(directory)[0:no_samples] if os.path.isfile(os.path.join(directory, f))]\n",
    "images = get_images(files, image_size)\n",
    "images = images * 1.0/255\n",
    "lab_images = color.rgb2lab(images)\n",
    "bw_lab_images = np.copy(lab_images)\n",
    "bw_lab_images[:, :, :, 1:] = 0\n",
    "\n",
    "inputs_2 = bw_lab_images[:, :, :, 0] - 50\n",
    "inputs_2 = inputs_2 / 50\n",
    "inputs_2 = inputs_2.reshape(inputs_2.shape+(1,))\n",
    "\n",
    "output = model.predict(inputs_2)\n",
    "output = output * 128\n",
    "RMSE_MSE = np.linalg.norm(result.astype(int) - (inputs[:, :, :, 1:]*255).astype(int)) / np.sqrt(no_samples)\n",
    "print(RMSE_MSE)"
   ]
  },
  {
   "cell_type": "code",
   "execution_count": null,
   "metadata": {
    "collapsed": true
   },
   "outputs": [],
   "source": [
    "no_samples=100\n",
    "directory = \"/home/carlos/Image_Colorization/data/flowers_val/flowers_val\"\n",
    "files = [f for f in os.listdir(directory)[0:no_samples] if os.path.isfile(os.path.join(directory, f))]\n",
    "Xtest = []\n",
    "for image in files:\n",
    "    img = read_image(image, directory)\n",
    "    if not img is None:\n",
    "        img = np.array(img, dtype=float)\n",
    "        Xtest.append(img)\n",
    "\n",
    "print(\"Listed inputs\")\n",
    "buckets = np.load(\"../model/pts_in_hull.npy\")\n",
    "Xtest = np.array(Xtest, dtype=float)\n",
    "Xtest = 1.0/255*Xtest\n",
    "inputs = color.rgb2lab(Xtest)[:, :, :, 0]\n",
    "inputs_2 = inputs - 50\n",
    "inputs_2 = inputs_2 / 50\n",
    "inputs_2 = inputs_2.reshape(inputs_2.shape+(1,))\n",
    "inputs = inputs.reshape(inputs.shape+(1,))\n",
    "print(\"Readied inputs\")\n",
    "# Test model\n",
    "output = model.predict(inputs_2)\n",
    "output = output.reshape(60, image_size, image_size, 313)\n",
    "print(\"Predicted inputs\")\n",
    "\n",
    "values = np.arange(0, 313)\n",
    "t = 0.38\n",
    "transformed = np.exp(np.log(output + 1e-8)/t)\n",
    "sum_colors = np.expand_dims(np.sum(transformed, axis=3), axis=3)\n",
    "result = transformed/sum_colors\n",
    "result = np.dot(result, buckets)\n",
    "RMSE_class = np.linalg.norm(result - (inputs[:, :, :, 1:]*255).astype(int)) / np.sqrt(no_samples)\n",
    "print(RMSE_class)"
   ]
  },
  {
   "cell_type": "code",
   "execution_count": null,
   "metadata": {
    "collapsed": true
   },
   "outputs": [],
   "source": [
    "image_size = 256\n",
    "no_samples = 100\n",
    "directory = \"/home/carlos/Image_Colorization/data/demo/flowers\"\n",
    "files = [f for f in os.listdir(directory)[0:no_samples] if os.path.isfile(os.path.join(directory, f))]\n",
    "model = load_model(\"/home/carlos/Image_Colorization/output/MSE/flowers/best.hdf5\")\n",
    "\n",
    "images = get_images(files, image_size)\n",
    "images = images * 1.0/255\n",
    "lab_images = color.rgb2lab(images)\n",
    "bw_lab_images = np.copy(lab_images)\n",
    "bw_lab_images[:, :, :, 1:] = 0\n",
    "\n",
    "inputs_2 = bw_lab_images[:, :, :, 0] - 50\n",
    "inputs_2 = inputs_2 / 50\n",
    "inputs_2 = inputs_2.reshape(inputs_2.shape+(1,))\n",
    "\n",
    "output = model.predict(inputs_2)\n",
    "output = output * 128\n",
    "RMSE_MSE_flowers = np.linalg.norm(result.astype(int) - (inputs[:, :, :, 1:]*255).astype(int)) / np.sqrt(no_samples)\n",
    "print(RMSE_MSE_flowers)"
   ]
  },
  {
   "cell_type": "code",
   "execution_count": null,
   "metadata": {
    "collapsed": true
   },
   "outputs": [],
   "source": [
    "image_size = 128\n",
    "directory = \"/home/carlos/Image_Colorization/data/demo/flowers\"\n",
    "files = [f for f in os.listdir(directory) if os.path.isfile(os.path.join(directory, f))]\n",
    "\n",
    "model = load_model(\"/home/carlos/Image_Colorization/output/flowers_aug_2/best.hdf5\")\n",
    "buckets = np.load(\"../model/pts_in_hull.npy\")\n",
    "\n",
    "images = get_images(files, image_size)\n",
    "images = images * 1.0/255\n",
    "lab_images = color.rgb2lab(images)\n",
    "bw_lab_images = np.copy(lab_images)\n",
    "bw_lab_images[:, :, :, 1:] = 0\n",
    "\n",
    "inputs_2 = bw_lab_images[:, :, :, 0] - 50\n",
    "inputs_2 = inputs_2 / 50\n",
    "inputs_2 = inputs_2.reshape(inputs_2.shape+(1,))\n",
    "\n",
    "output = model.predict(inputs_2)\n",
    "output = output.reshape(len(files), image_size, image_size, 313)\n",
    "\n",
    "values = np.arange(0, 313)\n",
    "t = 0.38\n",
    "transformed = np.exp(np.log(output + 1e-8)/t)\n",
    "sum_colors = np.expand_dims(np.sum(transformed, axis=3), axis=3)\n",
    "result = transformed/sum_colors\n",
    "output = np.dot(result, buckets)\n",
    "RMSE_class_flowers = np.linalg.norm(result - (inputs[:, :, :, 1:]*255).astype(int)) / np.sqrt(no_samples)\n",
    "print(RMSE_class_flowers)"
   ]
  },
  {
   "cell_type": "code",
   "execution_count": null,
   "metadata": {
    "collapsed": true
   },
   "outputs": [],
   "source": [
    "from keras.models import Model, load_model\n",
    "image_size = 128\n",
    "directory = \"/home/carlos/Image_Colorization/data/demo/flowers\"\n",
    "files = [f for f in os.listdir(directory) if os.path.isfile(os.path.join(directory, f))]\n",
    "model = load_model(\"/home/carlos/Image_Colorization/output/GAN/2019-02-26--19h16m/generator.h5\")\n",
    "\n",
    "images = get_images(files, image_size)\n",
    "images = images * 1.0/255\n",
    "lab_images = color.rgb2lab(images)\n",
    "bw_lab_images = np.copy(lab_images)\n",
    "bw_lab_images[:, :, :, 1:] = 0\n",
    "\n",
    "inputs_2 = bw_lab_images[:, :, :, 0] - 50\n",
    "inputs_2 = inputs_2 / 50\n",
    "inputs_2 = inputs_2.reshape(inputs_2.shape+(1,))\n",
    "\n",
    "output = model.predict(inputs_2)\n",
    "output = output * 128\n",
    "RMSE_GAN_flowers = np.linalg.norm(result.astype(int) - (inputs[:, :, :, 1:]*255).astype(int)) / np.sqrt(no_samples)\n",
    "print(RMSE_GAN_flowers)"
   ]
  }
 ],
 "metadata": {
  "kernelspec": {
   "display_name": "Python 2",
   "language": "python",
   "name": "python2"
  },
  "language_info": {
   "codemirror_mode": {
    "name": "ipython",
    "version": 2
   },
   "file_extension": ".py",
   "mimetype": "text/x-python",
   "name": "python",
   "nbconvert_exporter": "python",
   "pygments_lexer": "ipython2",
   "version": "2.7.13"
  }
 },
 "nbformat": 4,
 "nbformat_minor": 2
}
